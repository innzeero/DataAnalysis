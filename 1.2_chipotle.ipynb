{
 "cells": [
  {
   "cell_type": "markdown",
   "id": "royal-combat",
   "metadata": {},
   "source": [
    "### [Step 1] 탐색: 데이터의 기초 정보 살펴보기"
   ]
  },
  {
   "cell_type": "code",
   "execution_count": 3,
   "id": "located-arrow",
   "metadata": {},
   "outputs": [
    {
     "name": "stdout",
     "output_type": "stream",
     "text": [
      "(4622, 5)\n",
      "-----------------------------------------------------\n",
      "<class 'pandas.core.frame.DataFrame'>\n",
      "RangeIndex: 4622 entries, 0 to 4621\n",
      "Data columns (total 5 columns):\n",
      " #   Column              Non-Null Count  Dtype \n",
      "---  ------              --------------  ----- \n",
      " 0   order_id            4622 non-null   int64 \n",
      " 1   quantity            4622 non-null   int64 \n",
      " 2   item_name           4622 non-null   object\n",
      " 3   choice_description  3376 non-null   object\n",
      " 4   item_price          4622 non-null   object\n",
      "dtypes: int64(2), object(3)\n",
      "memory usage: 180.7+ KB\n",
      "None\n"
     ]
    }
   ],
   "source": [
    "# -*- coding: utf-8 -*-\n",
    "\n",
    "import pandas as pd\n",
    "\n",
    "file_path = '../DataAnalysis/python-data-analysis-master/data/chipotle.tsv'\n",
    "\n",
    "# read_csv() 함수로 데이터를 데이터 프레임 형태로 불러온다\n",
    "chipo = pd.read_csv(file_path, sep = '\\t')\n",
    "\n",
    "print(chipo.shape)\n",
    "print(\"-----------------------------------------------------\")\n",
    "print(chipo.info())"
   ]
  },
  {
   "cell_type": "code",
   "execution_count": 25,
   "id": "significant-sally",
   "metadata": {},
   "outputs": [],
   "source": [
    "# shape() : 데이터의 행과 열의 크기 반환\n",
    "# info() : 행과 열의 구성 정보\n",
    "# 현재 데이터는 4,622개의 행과 5개의 피처로 구성되어 있다\n",
    "# 또한 id와 quantity는 int64(숫자), 나머지 3개의 피처는 object 타입으로 이뤄져 있다\n",
    "# 특이한 것은 choice_description 피처가 3,376개의 non-null object로 구성되어 있다는 것이다\n",
    "# 이 정보는 무엇을 의미하는가?\n",
    "# 데이터 프레임에서 object 타입은 일반적으로 문자열을 의미\n",
    "# 그리고 null 이라는 용어는 \"데이터가 비어 있는 것\"을 의미한다\n",
    "# 이를 \"결측값\" 이라고 한다\n",
    "# 3,376 non-null object 라는 것은 3.376개의 비어 있지 않은 문자열 데이터가 있다는 정보이다\n",
    "# 하지만 데이터의 개수는 4,622개이므로 choice_description 피처는 1,246개의 결측값이 존재한다"
   ]
  },
  {
   "cell_type": "code",
   "execution_count": 6,
   "id": "smart-croatia",
   "metadata": {},
   "outputs": [
    {
     "data": {
      "text/html": [
       "<div>\n",
       "<style scoped>\n",
       "    .dataframe tbody tr th:only-of-type {\n",
       "        vertical-align: middle;\n",
       "    }\n",
       "\n",
       "    .dataframe tbody tr th {\n",
       "        vertical-align: top;\n",
       "    }\n",
       "\n",
       "    .dataframe thead th {\n",
       "        text-align: right;\n",
       "    }\n",
       "</style>\n",
       "<table border=\"1\" class=\"dataframe\">\n",
       "  <thead>\n",
       "    <tr style=\"text-align: right;\">\n",
       "      <th></th>\n",
       "      <th>order_id</th>\n",
       "      <th>quantity</th>\n",
       "      <th>item_name</th>\n",
       "      <th>choice_description</th>\n",
       "      <th>item_price</th>\n",
       "    </tr>\n",
       "  </thead>\n",
       "  <tbody>\n",
       "    <tr>\n",
       "      <th>0</th>\n",
       "      <td>1</td>\n",
       "      <td>1</td>\n",
       "      <td>Chips and Fresh Tomato Salsa</td>\n",
       "      <td>NaN</td>\n",
       "      <td>$2.39</td>\n",
       "    </tr>\n",
       "    <tr>\n",
       "      <th>1</th>\n",
       "      <td>1</td>\n",
       "      <td>1</td>\n",
       "      <td>Izze</td>\n",
       "      <td>[Clementine]</td>\n",
       "      <td>$3.39</td>\n",
       "    </tr>\n",
       "    <tr>\n",
       "      <th>2</th>\n",
       "      <td>1</td>\n",
       "      <td>1</td>\n",
       "      <td>Nantucket Nectar</td>\n",
       "      <td>[Apple]</td>\n",
       "      <td>$3.39</td>\n",
       "    </tr>\n",
       "    <tr>\n",
       "      <th>3</th>\n",
       "      <td>1</td>\n",
       "      <td>1</td>\n",
       "      <td>Chips and Tomatillo-Green Chili Salsa</td>\n",
       "      <td>NaN</td>\n",
       "      <td>$2.39</td>\n",
       "    </tr>\n",
       "    <tr>\n",
       "      <th>4</th>\n",
       "      <td>2</td>\n",
       "      <td>2</td>\n",
       "      <td>Chicken Bowl</td>\n",
       "      <td>[Tomatillo-Red Chili Salsa (Hot), [Black Beans...</td>\n",
       "      <td>$16.98</td>\n",
       "    </tr>\n",
       "    <tr>\n",
       "      <th>5</th>\n",
       "      <td>3</td>\n",
       "      <td>1</td>\n",
       "      <td>Chicken Bowl</td>\n",
       "      <td>[Fresh Tomato Salsa (Mild), [Rice, Cheese, Sou...</td>\n",
       "      <td>$10.98</td>\n",
       "    </tr>\n",
       "    <tr>\n",
       "      <th>6</th>\n",
       "      <td>3</td>\n",
       "      <td>1</td>\n",
       "      <td>Side of Chips</td>\n",
       "      <td>NaN</td>\n",
       "      <td>$1.69</td>\n",
       "    </tr>\n",
       "    <tr>\n",
       "      <th>7</th>\n",
       "      <td>4</td>\n",
       "      <td>1</td>\n",
       "      <td>Steak Burrito</td>\n",
       "      <td>[Tomatillo Red Chili Salsa, [Fajita Vegetables...</td>\n",
       "      <td>$11.75</td>\n",
       "    </tr>\n",
       "    <tr>\n",
       "      <th>8</th>\n",
       "      <td>4</td>\n",
       "      <td>1</td>\n",
       "      <td>Steak Soft Tacos</td>\n",
       "      <td>[Tomatillo Green Chili Salsa, [Pinto Beans, Ch...</td>\n",
       "      <td>$9.25</td>\n",
       "    </tr>\n",
       "    <tr>\n",
       "      <th>9</th>\n",
       "      <td>5</td>\n",
       "      <td>1</td>\n",
       "      <td>Steak Burrito</td>\n",
       "      <td>[Fresh Tomato Salsa, [Rice, Black Beans, Pinto...</td>\n",
       "      <td>$9.25</td>\n",
       "    </tr>\n",
       "  </tbody>\n",
       "</table>\n",
       "</div>"
      ],
      "text/plain": [
       "   order_id  quantity                              item_name  \\\n",
       "0         1         1           Chips and Fresh Tomato Salsa   \n",
       "1         1         1                                   Izze   \n",
       "2         1         1                       Nantucket Nectar   \n",
       "3         1         1  Chips and Tomatillo-Green Chili Salsa   \n",
       "4         2         2                           Chicken Bowl   \n",
       "5         3         1                           Chicken Bowl   \n",
       "6         3         1                          Side of Chips   \n",
       "7         4         1                          Steak Burrito   \n",
       "8         4         1                       Steak Soft Tacos   \n",
       "9         5         1                          Steak Burrito   \n",
       "\n",
       "                                  choice_description item_price  \n",
       "0                                                NaN     $2.39   \n",
       "1                                       [Clementine]     $3.39   \n",
       "2                                            [Apple]     $3.39   \n",
       "3                                                NaN     $2.39   \n",
       "4  [Tomatillo-Red Chili Salsa (Hot), [Black Beans...    $16.98   \n",
       "5  [Fresh Tomato Salsa (Mild), [Rice, Cheese, Sou...    $10.98   \n",
       "6                                                NaN     $1.69   \n",
       "7  [Tomatillo Red Chili Salsa, [Fajita Vegetables...    $11.75   \n",
       "8  [Tomatillo Green Chili Salsa, [Pinto Beans, Ch...     $9.25   \n",
       "9  [Fresh Tomato Salsa, [Rice, Black Beans, Pinto...     $9.25   "
      ]
     },
     "execution_count": 6,
     "metadata": {},
     "output_type": "execute_result"
    }
   ],
   "source": [
    "# chipotle 데이터셋의 행과 열, 데이터 확인하기\n",
    "chipo.head(10) # chipo라는 데이터 프레임에서 순서대로 10개의 데이터를 보여준다"
   ]
  },
  {
   "cell_type": "code",
   "execution_count": 7,
   "id": "reflected-personality",
   "metadata": {},
   "outputs": [
    {
     "name": "stdout",
     "output_type": "stream",
     "text": [
      "Index(['order_id', 'quantity', 'item_name', 'choice_description',\n",
      "       'item_price'],\n",
      "      dtype='object')\n",
      "-----------------------------------------------------\n",
      "RangeIndex(start=0, stop=4622, step=1)\n"
     ]
    }
   ],
   "source": [
    "print(chipo.columns)\n",
    "print(\"-----------------------------------------------------\")\n",
    "print(chipo.index)"
   ]
  },
  {
   "cell_type": "code",
   "execution_count": 8,
   "id": "arranged-innocent",
   "metadata": {},
   "outputs": [],
   "source": [
    "# chipotle 데이터셋 피처의 의미\n",
    "# order_id : 주문 번호\n",
    "# quantity : 아이템의 주문 수량\n",
    "# item_name : 주문한 아이템의 이름\n",
    "# choice_decription : 주문한 아이템의 상세 선택 옵션\n",
    "# item_price : 주문 아이템의 정보"
   ]
  },
  {
   "cell_type": "code",
   "execution_count": 9,
   "id": "equal-sussex",
   "metadata": {},
   "outputs": [],
   "source": [
    "# quantity와 item_price 의 수치적 특징\n",
    "# 우선 quantity와 item_price 두 피처는 연속형 피러이다\n",
    "# 연속형 피처는 키와 모무게처럼 어떠한 값도 가질 수 있는 연속적인 숫자 형태를 의미한다\n",
    "\n",
    "# 피처 형태의 종류 #\n",
    "# * 수치형 피처(Numerical Feature)\n",
    "# - 연속형 피처 : 어떤 구간 안의 모든 값을 데이터로써 가질 수 있음(키, 몸무게)\n",
    "# - 비연속형 피처 : 셀 수 있으며, 일정 구간 안에서 정해진 몇 개의 값을 가짐(나이)\n",
    "\n",
    "# * 범주형 피처(Categorical Feature)\n",
    "# - 순서가 있는 범주형 피처 : 순서가 있으나 수치는 아님(학점(A, B, C, ..., F))\n",
    "# - 순서가 없는 범주형 피처 : 데이터가 구분되면서도 순서가 없음(혈액형)\n",
    "\n",
    "# 현재 유일하게 존재하는 수치형 피처는 quantity뿐이다(item_price는 데이터 타입이 현재 object 이므로 제외)\n",
    "# 수치형 피처는 describe() 함수를 통해 통계 정보를 얻을 수 있다"
   ]
  },
  {
   "cell_type": "code",
   "execution_count": 11,
   "id": "acute-coordinator",
   "metadata": {},
   "outputs": [
    {
     "name": "stdout",
     "output_type": "stream",
     "text": [
      "          quantity\n",
      "count  4622.000000\n",
      "mean      1.075725\n",
      "std       0.410186\n",
      "min       1.000000\n",
      "25%       1.000000\n",
      "50%       1.000000\n",
      "75%       1.000000\n",
      "max      15.000000\n"
     ]
    }
   ],
   "source": [
    "# describe() 함수로 기초 통계량 출력\n",
    "# order_id는 데이터 타입은 정수형, 숫자이나 이 데이터에서 \"숫자로서의 의미\"를 가지지 않기 때문에 str으로 변환\n",
    "chipo['order_id'] = chipo['order_id'].astype(str)\n",
    "\n",
    "# chipo 데이터 프레임에서 수치형 피처들의 기초 통계량 확인\n",
    "print(chipo.describe())"
   ]
  },
  {
   "cell_type": "code",
   "execution_count": 12,
   "id": "north-humidity",
   "metadata": {},
   "outputs": [],
   "source": [
    "# 출력 내용을 분석해보면 아이템의 평균 주문 수량(mean)은 약 1.07 이라는 것을 알 수 있다\n",
    "# 이는 대부분이 한 아이템에 대해서 1개 정도만 주문했다는 뜻!\n",
    "# 즉, '한 사람이 같은 메뉴를 여러 개 구매하는 경우는 많지 않다'는 인사이트를 얻을 수 있다\n",
    "\n",
    "# 그렇다면, item_prie의 수치적 특징은 어떻게 알아볼까?\n",
    "# 현재 item_price 피처는 object type 이기 때문에 describe() 함수로 기초 통계량을 확인할 수 없다\n",
    "# 이를 해결하기 위해서는 추가적인 데이터 전처리 작업이 필요하다(데이터 전처리 단계에서 살펴봄)"
   ]
  },
  {
   "cell_type": "code",
   "execution_count": 14,
   "id": "hundred-supply",
   "metadata": {},
   "outputs": [
    {
     "name": "stdout",
     "output_type": "stream",
     "text": [
      "1834\n",
      "50\n"
     ]
    }
   ],
   "source": [
    "# order_id와 item_name의 개수\n",
    "# order_id와 item_name의 개수를 탐색해보자\n",
    "# 이 두 피처는 범주형 피러이기 때문에 unique() 함수를 사용한다\n",
    "# 이를 통해 피처 내에 몇 개의 범주가 있는지를 확인할 수 있다\n",
    "# (쉽게 말해 order_id가 몇 번까지 있으며, 판매 item 종류가 얼마나 되는지 알아볼 수 있다)\n",
    "\n",
    "print(len(chipo['order_id'].unique()))# order_id의 개수 출력\n",
    "print(len(chipo['item_name'].unique())) # item_name의 개수 출력"
   ]
  },
  {
   "cell_type": "code",
   "execution_count": 17,
   "id": "devoted-sugar",
   "metadata": {},
   "outputs": [
    {
     "data": {
      "text/plain": [
       "array(['1', '2', '3', ..., '1832', '1833', '1834'], dtype=object)"
      ]
     },
     "execution_count": 17,
     "metadata": {},
     "output_type": "execute_result"
    }
   ],
   "source": [
    "chipo['order_id'].unique()"
   ]
  },
  {
   "cell_type": "code",
   "execution_count": 18,
   "id": "rough-window",
   "metadata": {},
   "outputs": [
    {
     "data": {
      "text/plain": [
       "array(['Chips and Fresh Tomato Salsa', 'Izze', 'Nantucket Nectar',\n",
       "       'Chips and Tomatillo-Green Chili Salsa', 'Chicken Bowl',\n",
       "       'Side of Chips', 'Steak Burrito', 'Steak Soft Tacos',\n",
       "       'Chips and Guacamole', 'Chicken Crispy Tacos',\n",
       "       'Chicken Soft Tacos', 'Chicken Burrito', 'Canned Soda',\n",
       "       'Barbacoa Burrito', 'Carnitas Burrito', 'Carnitas Bowl',\n",
       "       'Bottled Water', 'Chips and Tomatillo Green Chili Salsa',\n",
       "       'Barbacoa Bowl', 'Chips', 'Chicken Salad Bowl', 'Steak Bowl',\n",
       "       'Barbacoa Soft Tacos', 'Veggie Burrito', 'Veggie Bowl',\n",
       "       'Steak Crispy Tacos', 'Chips and Tomatillo Red Chili Salsa',\n",
       "       'Barbacoa Crispy Tacos', 'Veggie Salad Bowl',\n",
       "       'Chips and Roasted Chili-Corn Salsa',\n",
       "       'Chips and Roasted Chili Corn Salsa', 'Carnitas Soft Tacos',\n",
       "       'Chicken Salad', 'Canned Soft Drink', 'Steak Salad Bowl',\n",
       "       '6 Pack Soft Drink', 'Chips and Tomatillo-Red Chili Salsa', 'Bowl',\n",
       "       'Burrito', 'Crispy Tacos', 'Carnitas Crispy Tacos', 'Steak Salad',\n",
       "       'Chips and Mild Fresh Tomato Salsa', 'Veggie Soft Tacos',\n",
       "       'Carnitas Salad Bowl', 'Barbacoa Salad Bowl', 'Salad',\n",
       "       'Veggie Crispy Tacos', 'Veggie Salad', 'Carnitas Salad'],\n",
       "      dtype=object)"
      ]
     },
     "execution_count": 18,
     "metadata": {},
     "output_type": "execute_result"
    }
   ],
   "source": [
    "chipo['item_name'].unique()"
   ]
  },
  {
   "cell_type": "code",
   "execution_count": 24,
   "id": "shared-arlington",
   "metadata": {},
   "outputs": [],
   "source": [
    "# 위에서 보다시피 그냥 unique()를 하면 array 형태로 각 피처들의 값을 보여준다\n",
    "# 개수 파악을 위해 len() 을 이용한다"
   ]
  },
  {
   "cell_type": "markdown",
   "id": "every-chart",
   "metadata": {},
   "source": [
    "### [Step 2] 인사이트의 발견: 탐색과 시각화하기"
   ]
  },
  {
   "cell_type": "code",
   "execution_count": 26,
   "id": "quick-thunder",
   "metadata": {},
   "outputs": [],
   "source": [
    "# 가장 많이 주문한 아이템 Top 10\n",
    "# 가장 많이 주문한 아이템 Top 10을 분석하기 위해 \n",
    "# DataFrame['column']의 형태에 value_counts() 함수를 적용하는 방식을 사용한다\n",
    "# DataFrame['column']은 시리즈(series)라는 객체를 반환하는데, \n",
    "# vlaue_counts() 함수는 오로지 이러한 시리즈 객체에만 적용되기 때문"
   ]
  },
  {
   "cell_type": "code",
   "execution_count": 30,
   "id": "becoming-default",
   "metadata": {},
   "outputs": [
    {
     "data": {
      "text/plain": [
       "Chicken Bowl           726\n",
       "Chicken Burrito        553\n",
       "Chips and Guacamole    479\n",
       "Steak Burrito          368\n",
       "Canned Soft Drink      301\n",
       "Chips                  211\n",
       "Steak Bowl             211\n",
       "Bottled Water          162\n",
       "Chicken Soft Tacos     115\n",
       "Chicken Salad Bowl     110\n",
       "Name: item_name, dtype: int64"
      ]
     },
     "execution_count": 30,
     "metadata": {},
     "output_type": "execute_result"
    }
   ],
   "source": [
    "item_count = chipo['item_name'].value_counts()[:10]\n",
    "item_count"
   ]
  },
  {
   "cell_type": "code",
   "execution_count": 50,
   "id": "driven-honor",
   "metadata": {},
   "outputs": [
    {
     "name": "stdout",
     "output_type": "stream",
     "text": [
      "Top 1 : Chicken Bowl 726\n",
      "Top 2 : Chicken Burrito 553\n",
      "Top 3 : Chips and Guacamole 479\n",
      "Top 4 : Steak Burrito 368\n",
      "Top 5 : Canned Soft Drink 301\n",
      "Top 6 : Chips 211\n",
      "Top 7 : Steak Bowl 211\n",
      "Top 8 : Bottled Water 162\n",
      "Top 9 : Chicken Soft Tacos 115\n",
      "Top 10 : Chicken Salad Bowl 110\n"
     ]
    }
   ],
   "source": [
    "for idx, (val, cnt) in enumerate(item_count.iteritems(), 1):\n",
    "    print(\"Top\", idx, \":\", val, cnt)"
   ]
  },
  {
   "cell_type": "code",
   "execution_count": null,
   "id": "convertible-stake",
   "metadata": {},
   "outputs": [],
   "source": []
  }
 ],
 "metadata": {
  "kernelspec": {
   "display_name": "Python 3",
   "language": "python",
   "name": "python3"
  },
  "language_info": {
   "codemirror_mode": {
    "name": "ipython",
    "version": 3
   },
   "file_extension": ".py",
   "mimetype": "text/x-python",
   "name": "python",
   "nbconvert_exporter": "python",
   "pygments_lexer": "ipython3",
   "version": "3.7.10"
  }
 },
 "nbformat": 4,
 "nbformat_minor": 5
}
